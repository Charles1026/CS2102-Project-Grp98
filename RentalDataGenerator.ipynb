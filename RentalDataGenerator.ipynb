{
 "cells": [
  {
   "cell_type": "code",
   "execution_count": null,
   "metadata": {},
   "outputs": [
    {
     "name": "stdout",
     "output_type": "stream",
     "text": [
      "CSV file 'rental_data_iso8601.csv' has been saved successfully!\n"
     ]
    }
   ],
   "source": [
    "import random\n",
    "import pandas as pd\n",
    "from datetime import datetime, timedelta\n",
    "\n",
    "# Define constraints\n",
    "num_cars = 30\n",
    "num_rentals = 300\n",
    "num_renters = 100  # Restricting renter_id between 1-100\n",
    "\n",
    "# Generate rental data\n",
    "rental_data = []\n",
    "car_rental_dates = {car_id: [] for car_id in range(1, num_cars + 1)}  # Track car rental periods\n",
    "\n",
    "for rental_id in range(1, num_rentals + 1):\n",
    "    car_id = random.randint(1, num_cars)  # Assign a random car\n",
    "\n",
    "    # Generate a valid rental period ensuring no overlapping rentals per car\n",
    "    while True:\n",
    "        start_date = datetime(2024, random.randint(1, 12), random.randint(1, 28))  # Random month/day\n",
    "        end_date = start_date + timedelta(days=random.randint(1, 14))  # Rental lasts 1-14 days\n",
    "\n",
    "        # Ensure no overlapping rentals for the same car\n",
    "        overlapping = any(\n",
    "            (start <= end_date and end >= start_date) for start, end in car_rental_dates[car_id]\n",
    "        )\n",
    "        \n",
    "        if not overlapping:\n",
    "            car_rental_dates[car_id].append((start_date, end_date))\n",
    "            break\n",
    "\n",
    "    renter_id = random.randint(1, num_renters)  # Assign a valid renter (1-100)\n",
    "\n",
    "    # Format dates in ISO 8601 (YYYYMMDD)\n",
    "    start_date_str = start_date.strftime('%Y%m%d')\n",
    "    end_date_str = end_date.strftime('%Y%m%d')\n",
    "\n",
    "    rental_data.append((rental_id, car_id, renter_id, start_date_str, end_date_str))\n",
    "\n",
    "# Create a DataFrame\n",
    "df_rental = pd.DataFrame(rental_data, columns=[\"rental_id\", \"car_id\", \"renter_id\", \"start_date\", \"end_date\"])\n",
    "\n",
    "# Save to CSV (store it locally)\n",
    "csv_filename = \"rental_data_iso8601.csv\"\n",
    "df_rental.to_csv(csv_filename, index=False)\n",
    "\n",
    "print(f\"CSV file '{csv_filename}' has been saved successfully!\")\n"
   ]
  },
  {
   "cell_type": "code",
   "execution_count": 4,
   "metadata": {},
   "outputs": [
    {
     "name": "stdout",
     "output_type": "stream",
     "text": [
      "SQL file 'rental_data.sql' has been generated successfully!\n"
     ]
    }
   ],
   "source": [
    "# Read the CSV file\n",
    "df_rental = pd.read_csv(\"rental_data_iso8601.csv\") \n",
    "\n",
    "# Convert date format from YYYYMMDD to MM/DD/YYYY\n",
    "df_rental[\"start_date\"] = pd.to_datetime(df_rental[\"start_date\"], format='%Y%m%d').dt.strftime('%-m/%-d/%Y')\n",
    "df_rental[\"end_date\"] = pd.to_datetime(df_rental[\"end_date\"], format='%Y%m%d').dt.strftime('%-m/%-d/%Y')\n",
    "\n",
    "# Generate SQL INSERT statements\n",
    "sql_statements = [\n",
    "    f\"INSERT INTO rental (rental_id, car_id, renter_id, start_date, end_date) \"\n",
    "    f\"VALUES ({row.rental_id}, {row.car_id}, {row.renter_id}, '{row.start_date}', '{row.end_date}');\"\n",
    "    for _, row in df_rental.iterrows()\n",
    "]\n",
    "\n",
    "# Save to a .sql file\n",
    "sql_filename = \"rental_data.sql\"\n",
    "with open(sql_filename, \"w\") as f:\n",
    "    f.write(\"\\n\".join(sql_statements))\n",
    "\n",
    "print(f\"SQL file '{sql_filename}' has been generated successfully!\")\n"
   ]
  }
 ],
 "metadata": {
  "kernelspec": {
   "display_name": "base",
   "language": "python",
   "name": "python3"
  },
  "language_info": {
   "codemirror_mode": {
    "name": "ipython",
    "version": 3
   },
   "file_extension": ".py",
   "mimetype": "text/x-python",
   "name": "python",
   "nbconvert_exporter": "python",
   "pygments_lexer": "ipython3",
   "version": "3.12.7"
  }
 },
 "nbformat": 4,
 "nbformat_minor": 2
}
